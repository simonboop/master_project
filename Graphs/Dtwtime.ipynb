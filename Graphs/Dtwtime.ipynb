{
 "cells": [
  {
   "cell_type": "code",
   "execution_count": 20,
   "metadata": {
    "collapsed": false
   },
   "outputs": [],
   "source": [
    "#Graphs to vizulise the accruacy of each dtw module in global comparison not window\n",
    "#modules to make graphs\n",
    "library(\"ggplot2\")\n",
    "library(\"gridExtra\")\n",
    "library(\"rgl\")\n",
    "library(\"dplyr\")\n",
    "\n",
    "\n"
   ]
  },
  {
   "cell_type": "code",
   "execution_count": 54,
   "metadata": {
    "collapsed": false
   },
   "outputs": [
    {
     "data": {
      "text/html": [
       "<table>\n",
       "<thead><tr><th></th><th scope=col>Var1</th><th scope=col>Var2</th><th scope=col>Freq</th></tr></thead>\n",
       "<tbody>\n",
       "\t<tr><th scope=row>1</th><td>cdtw   </td><td>Correct</td><td>0      </td></tr>\n",
       "\t<tr><th scope=row>2</th><td>dtw    </td><td>Correct</td><td>0      </td></tr>\n",
       "\t<tr><th scope=row>3</th><td>ftw    </td><td>Correct</td><td>0      </td></tr>\n",
       "\t<tr><th scope=row>4</th><td>mlpy   </td><td>Correct</td><td>0      </td></tr>\n",
       "\t<tr><th scope=row>5</th><td>mlpy_sub</td><td>Correct </td><td>11      </td></tr>\n",
       "\t<tr><th scope=row>6</th><td>pydtw  </td><td>Correct</td><td>0      </td></tr>\n",
       "\t<tr><th scope=row>7</th><td>ucr    </td><td>Correct</td><td>11     </td></tr>\n",
       "\t<tr><th scope=row>8</th><td>cdtw     </td><td>Incorrect</td><td>11       </td></tr>\n",
       "\t<tr><th scope=row>9</th><td>dtw      </td><td>Incorrect</td><td>11       </td></tr>\n",
       "\t<tr><th scope=row>10</th><td>ftw      </td><td>Incorrect</td><td>11       </td></tr>\n",
       "\t<tr><th scope=row>11</th><td>mlpy     </td><td>Incorrect</td><td>11       </td></tr>\n",
       "\t<tr><th scope=row>12</th><td>mlpy_sub </td><td>Incorrect</td><td>0        </td></tr>\n",
       "\t<tr><th scope=row>13</th><td>pydtw    </td><td>Incorrect</td><td>11       </td></tr>\n",
       "\t<tr><th scope=row>14</th><td>ucr      </td><td>Incorrect</td><td>0        </td></tr>\n",
       "</tbody>\n",
       "</table>\n"
      ],
      "text/latex": [
       "\\begin{tabular}{r|lll}\n",
       "  & Var1 & Var2 & Freq\\\\\n",
       "\\hline\n",
       "\t1 & cdtw    & Correct & 0      \\\\\n",
       "\t2 & dtw     & Correct & 0      \\\\\n",
       "\t3 & ftw     & Correct & 0      \\\\\n",
       "\t4 & mlpy    & Correct & 0      \\\\\n",
       "\t5 & mlpy\\_sub & Correct    & 11        \\\\\n",
       "\t6 & pydtw   & Correct & 0      \\\\\n",
       "\t7 & ucr     & Correct & 11     \\\\\n",
       "\t8 & cdtw      & Incorrect & 11       \\\\\n",
       "\t9 & dtw       & Incorrect & 11       \\\\\n",
       "\t10 & ftw       & Incorrect & 11       \\\\\n",
       "\t11 & mlpy      & Incorrect & 11       \\\\\n",
       "\t12 & mlpy\\_sub & Incorrect  & 0         \\\\\n",
       "\t13 & pydtw     & Incorrect & 11       \\\\\n",
       "\t14 & ucr       & Incorrect & 0        \\\\\n",
       "\\end{tabular}\n"
      ],
      "text/plain": [
       "       Var1      Var2 Freq\n",
       "1      cdtw   Correct    0\n",
       "2       dtw   Correct    0\n",
       "3       ftw   Correct    0\n",
       "4      mlpy   Correct    0\n",
       "5  mlpy_sub   Correct   11\n",
       "6     pydtw   Correct    0\n",
       "7       ucr   Correct   11\n",
       "8      cdtw Incorrect   11\n",
       "9       dtw Incorrect   11\n",
       "10      ftw Incorrect   11\n",
       "11     mlpy Incorrect   11\n",
       "12 mlpy_sub Incorrect    0\n",
       "13    pydtw Incorrect   11\n",
       "14      ucr Incorrect    0"
      ]
     },
     "metadata": {},
     "output_type": "display_data"
    },
    {
     "data": {
      "text/html": [
       "<table>\n",
       "<thead><tr><th></th><th scope=col>Module</th><th scope=col>AvgTime</th><th scope=col>Test</th></tr></thead>\n",
       "<tbody>\n",
       "\t<tr><th scope=row>1</th><td>cdtw            </td><td>13010.7272727273</td><td>Global          </td></tr>\n",
       "\t<tr><th scope=row>2</th><td>dtw             </td><td>607992.545454545</td><td>Global          </td></tr>\n",
       "\t<tr><th scope=row>3</th><td>ftw             </td><td>448633.818181818</td><td>Global          </td></tr>\n",
       "\t<tr><th scope=row>4</th><td>mlpy            </td><td>28241.4545454545</td><td>Global          </td></tr>\n",
       "\t<tr><th scope=row>5</th><td>mlpy_sub        </td><td>24620.0909090909</td><td>Global          </td></tr>\n",
       "\t<tr><th scope=row>6</th><td>pydtw           </td><td>34034.1818181818</td><td>Global          </td></tr>\n",
       "\t<tr><th scope=row>7</th><td>ucr             </td><td>500713.363636364</td><td>Global          </td></tr>\n",
       "</tbody>\n",
       "</table>\n"
      ],
      "text/latex": [
       "\\begin{tabular}{r|lll}\n",
       "  & Module & AvgTime & Test\\\\\n",
       "\\hline\n",
       "\t1 & cdtw             & 13010.7272727273 & Global          \\\\\n",
       "\t2 & dtw              & 607992.545454545 & Global          \\\\\n",
       "\t3 & ftw              & 448633.818181818 & Global          \\\\\n",
       "\t4 & mlpy             & 28241.4545454545 & Global          \\\\\n",
       "\t5 & mlpy\\_sub       & 24620.0909090909 & Global          \\\\\n",
       "\t6 & pydtw            & 34034.1818181818 & Global          \\\\\n",
       "\t7 & ucr              & 500713.363636364 & Global          \\\\\n",
       "\\end{tabular}\n"
      ],
      "text/plain": [
       "    Module   AvgTime   Test\n",
       "1     cdtw  13010.73 Global\n",
       "2      dtw 607992.55 Global\n",
       "3      ftw 448633.82 Global\n",
       "4     mlpy  28241.45 Global\n",
       "5 mlpy_sub  24620.09 Global\n",
       "6    pydtw  34034.18 Global\n",
       "7      ucr 500713.36 Global"
      ]
     },
     "metadata": {},
     "output_type": "display_data"
    },
    {
     "data": {},
     "metadata": {},
     "output_type": "display_data"
    },
    {
     "data": {
      "image/png": "[encoded data removed]",
      "text/plain": [
       "plot without title"
      ]
     },
     "metadata": {},
     "output_type": "display_data"
    }
   ],
   "source": [
    "#load log file with time accuracy measuments of different dtw modules with global searching\n",
    "\n",
    "all_time_accuracy= read.csv(\"./dtw_logs/bench_logallnew.txt\", header = TRUE, sep=\",\",stringsAsFactors=FALSE)\n",
    "#overall accuracy plot\n",
    "\n",
    "#count how many were correct and not correct for each\n",
    "accuracy = data.frame(table(all_time_accuracy$Module, all_time_accuracy$CorrectlyPredicted ))\n",
    "accuracy\n",
    "\n",
    "#avg time taken for each module to match amplicpns 1-11\n",
    "avgtime_all = group_by(all_time_accuracy, Module) %>% summarize(AvgTime = sum(Time)/11)\n",
    "#add label for later overall plot\n",
    "avgtime_all[\"Test\"] = \"Global\"\n",
    "avgtime_all\n",
    "\n",
    "#plot of times \n",
    "Fig1<-ggplot(data=avgtime_all,aes(x=Module, y=AvgTime)) + \n",
    "geom_bar(stat=\"identity\") +\n",
    "labs(y=\"Time taken microseconds (μs)\",x=\"Module Name\",title = \"Average Time Taken For Dtw Module to Match \\n Amplicon Squiggle Against Reference Squiggle\") \n",
    "\n",
    "Fig1\n",
    "\n"
   ]
  },
  {
   "cell_type": "code",
   "execution_count": 73,
   "metadata": {
    "collapsed": false
   },
   "outputs": [
    {
     "data": {
      "text/html": [
       "<table>\n",
       "<thead><tr><th></th><th scope=col>Algorithm</th><th scope=col>Amp1</th><th scope=col>Amp2</th><th scope=col>Amp3</th><th scope=col>Amp4</th><th scope=col>Amp5</th><th scope=col>Amp6</th><th scope=col>Amp7</th><th scope=col>Amp8</th><th scope=col>Amp9</th><th scope=col>Amp10</th><th scope=col>Amp11</th></tr></thead>\n",
       "<tbody>\n",
       "\t<tr><th scope=row>1</th><td>ucr    </td><td>1127592</td><td>1220139</td><td>1258212</td><td>1194161</td><td>1212422</td><td>1263434</td><td>1227065</td><td>1188152</td><td>1218884</td><td>1157148</td><td>1232769</td></tr>\n",
       "\t<tr><th scope=row>2</th><td>ftw    </td><td>6593342</td><td>6537843</td><td>6551381</td><td>6585604</td><td>6554072</td><td>6566075</td><td>6561331</td><td>6569977</td><td>6567905</td><td>6556787</td><td>6607582</td></tr>\n",
       "\t<tr><th scope=row>3</th><td>cdtw </td><td>28406</td><td>28881</td><td>27674</td><td>28332</td><td>28314</td><td>28015</td><td>28200</td><td>27826</td><td>27995</td><td>27852</td><td>27936</td></tr>\n",
       "\t<tr><th scope=row>4</th><td>mlpy </td><td>51054</td><td>51172</td><td>51260</td><td>50835</td><td>50981</td><td>51113</td><td>50962</td><td>50795</td><td>51054</td><td>50723</td><td>50894</td></tr>\n",
       "\t<tr><th scope=row>5</th><td>dtw     </td><td>37323275</td><td>37317578</td><td>37563289</td><td>37297409</td><td>37444877</td><td>37248683</td><td>37208524</td><td>37223651</td><td>37067983</td><td>37092011</td><td>37210092</td></tr>\n",
       "\t<tr><th scope=row>6</th><td>mlpy_sub</td><td>44033   </td><td>43686   </td><td>44074   </td><td>43852   </td><td>43746   </td><td>43892   </td><td>44011   </td><td>44265   </td><td>43772   </td><td>43772   </td><td>43932   </td></tr>\n",
       "</tbody>\n",
       "</table>\n"
      ],
      "text/latex": [
       "\\begin{tabular}{r|llllllllllll}\n",
       "  & Algorithm & Amp1 & Amp2 & Amp3 & Amp4 & Amp5 & Amp6 & Amp7 & Amp8 & Amp9 & Amp10 & Amp11\\\\\n",
       "\\hline\n",
       "\t1 & ucr     & 1127592 & 1220139 & 1258212 & 1194161 & 1212422 & 1263434 & 1227065 & 1188152 & 1218884 & 1157148 & 1232769\\\\\n",
       "\t2 & ftw     & 6593342 & 6537843 & 6551381 & 6585604 & 6554072 & 6566075 & 6561331 & 6569977 & 6567905 & 6556787 & 6607582\\\\\n",
       "\t3 & cdtw  & 28406 & 28881 & 27674 & 28332 & 28314 & 28015 & 28200 & 27826 & 27995 & 27852 & 27936\\\\\n",
       "\t4 & mlpy  & 51054 & 51172 & 51260 & 50835 & 50981 & 51113 & 50962 & 50795 & 51054 & 50723 & 50894\\\\\n",
       "\t5 & dtw      & 37323275 & 37317578 & 37563289 & 37297409 & 37444877 & 37248683 & 37208524 & 37223651 & 37067983 & 37092011 & 37210092\\\\\n",
       "\t6 & mlpy\\_sub & 44033      & 43686      & 44074      & 43852      & 43746      & 43892      & 44011      & 44265      & 43772      & 43772      & 43932     \\\\\n",
       "\\end{tabular}\n"
      ],
      "text/plain": [
       "  Algorithm     Amp1     Amp2     Amp3     Amp4     Amp5     Amp6     Amp7\n",
       "1       ucr  1127592  1220139  1258212  1194161  1212422  1263434  1227065\n",
       "2       ftw  6593342  6537843  6551381  6585604  6554072  6566075  6561331\n",
       "3      cdtw    28406    28881    27674    28332    28314    28015    28200\n",
       "4      mlpy    51054    51172    51260    50835    50981    51113    50962\n",
       "5       dtw 37323275 37317578 37563289 37297409 37444877 37248683 37208524\n",
       "6  mlpy_sub    44033    43686    44074    43852    43746    43892    44011\n",
       "      Amp8     Amp9    Amp10    Amp11\n",
       "1  1188152  1218884  1157148  1232769\n",
       "2  6569977  6567905  6556787  6607582\n",
       "3    27826    27995    27852    27936\n",
       "4    50795    51054    50723    50894\n",
       "5 37223651 37067983 37092011 37210092\n",
       "6    44265    43772    43772    43932"
      ]
     },
     "metadata": {},
     "output_type": "display_data"
    },
    {
     "data": {
      "text/html": [
       "<table>\n",
       "<thead><tr><th></th><th scope=col>Algorithm</th><th scope=col>AvgTime</th><th scope=col>Test</th></tr></thead>\n",
       "<tbody>\n",
       "\t<tr><th scope=row>1</th><td>cdtw            </td><td>28130.0909090909</td><td>window          </td></tr>\n",
       "\t<tr><th scope=row>2</th><td>dtw             </td><td>37272488.3636364</td><td>window          </td></tr>\n",
       "\t<tr><th scope=row>3</th><td>ftw             </td><td>6568354.45454545</td><td>window          </td></tr>\n",
       "\t<tr><th scope=row>4</th><td>mlpy            </td><td>50985.7272727273</td><td>window          </td></tr>\n",
       "\t<tr><th scope=row>5</th><td>mlpy_sub        </td><td>43912.2727272727</td><td>window          </td></tr>\n",
       "\t<tr><th scope=row>6</th><td>ucr             </td><td>1209088.90909091</td><td>window          </td></tr>\n",
       "</tbody>\n",
       "</table>\n"
      ],
      "text/latex": [
       "\\begin{tabular}{r|lll}\n",
       "  & Algorithm & AvgTime & Test\\\\\n",
       "\\hline\n",
       "\t1 & cdtw             & 28130.0909090909 & window          \\\\\n",
       "\t2 & dtw              & 37272488.3636364 & window          \\\\\n",
       "\t3 & ftw              & 6568354.45454545 & window          \\\\\n",
       "\t4 & mlpy             & 50985.7272727273 & window          \\\\\n",
       "\t5 & mlpy\\_sub       & 43912.2727272727 & window          \\\\\n",
       "\t6 & ucr              & 1209088.90909091 & window          \\\\\n",
       "\\end{tabular}\n"
      ],
      "text/plain": [
       "  Algorithm     AvgTime   Test\n",
       "1      cdtw    28130.09 window\n",
       "2       dtw 37272488.36 window\n",
       "3       ftw  6568354.45 window\n",
       "4      mlpy    50985.73 window\n",
       "5  mlpy_sub    43912.27 window\n",
       "6       ucr  1209088.91 window"
      ]
     },
     "metadata": {},
     "output_type": "display_data"
    },
    {
     "data": {
      "text/html": [
       "<table>\n",
       "<thead><tr><th></th><th scope=col>Algorithm</th><th scope=col>AvgTime</th><th scope=col>Test</th></tr></thead>\n",
       "<tbody>\n",
       "\t<tr><th scope=row>1</th><td>cdtw            </td><td>28130.0909090909</td><td>window          </td></tr>\n",
       "\t<tr><th scope=row>2</th><td>dtw             </td><td>37272488.3636364</td><td>window          </td></tr>\n",
       "\t<tr><th scope=row>3</th><td>ftw             </td><td>6568354.45454545</td><td>window          </td></tr>\n",
       "\t<tr><th scope=row>4</th><td>mlpy            </td><td>50985.7272727273</td><td>window          </td></tr>\n",
       "\t<tr><th scope=row>5</th><td>mlpy_sub        </td><td>43912.2727272727</td><td>window          </td></tr>\n",
       "\t<tr><th scope=row>6</th><td>ucr             </td><td>1209088.90909091</td><td>window          </td></tr>\n",
       "</tbody>\n",
       "</table>\n"
      ],
      "text/latex": [
       "\\begin{tabular}{r|lll}\n",
       "  & Algorithm & AvgTime & Test\\\\\n",
       "\\hline\n",
       "\t1 & cdtw             & 28130.0909090909 & window          \\\\\n",
       "\t2 & dtw              & 37272488.3636364 & window          \\\\\n",
       "\t3 & ftw              & 6568354.45454545 & window          \\\\\n",
       "\t4 & mlpy             & 50985.7272727273 & window          \\\\\n",
       "\t5 & mlpy\\_sub       & 43912.2727272727 & window          \\\\\n",
       "\t6 & ucr              & 1209088.90909091 & window          \\\\\n",
       "\\end{tabular}\n"
      ],
      "text/plain": [
       "  Algorithm     AvgTime   Test\n",
       "1      cdtw    28130.09 window\n",
       "2       dtw 37272488.36 window\n",
       "3       ftw  6568354.45 window\n",
       "4      mlpy    50985.73 window\n",
       "5  mlpy_sub    43912.27 window\n",
       "6       ucr  1209088.91 window"
      ]
     },
     "metadata": {},
     "output_type": "display_data"
    },
    {
     "data": {},
     "metadata": {},
     "output_type": "display_data"
    },
    {
     "data": {
      "image/png": "[encoded data removed]",
      "text/plain": [
       "plot without title"
      ]
     },
     "metadata": {},
     "output_type": "display_data"
    }
   ],
   "source": [
    "#load log with time measuments of different dtw modules with window searching\n",
    "window_total_times = read.csv(\"./dtw_logs/Algorithm_Time.txt\", header = TRUE, sep=\",\", stringsAsFactors=FALSE)\n",
    "window_total_times\n",
    "#avg time taken for each module to match amplicpns 1-11\n",
    "avgtime_window = group_by(window_total_times, Algorithm) %>% summarize(\n",
    "    \"AvgTime\" = (sum(Amp1)+sum(Amp2)+sum(Amp3)+sum(Amp4)+sum(Amp5)+\n",
    "                 sum(Amp6)+sum(Amp7)+sum(Amp8)+sum(Amp9)+sum(Amp10)+\n",
    "                 sum(Amp11))/11)\n",
    "\n",
    "#add for later overview\n",
    "avgtime_window[\"Test\"] = \"window\"\n",
    "avgtime_window\n",
    "\n",
    "avgtime_window\n",
    "\n",
    "colnames(avgtime_window) <- c(\"Module\", \"AvgTime\", \"Test\")\n",
    "\n",
    "#plot of times \n",
    "Fig2<-ggplot(data=avgtime_window,aes(x=Module, y=AvgTime)) + \n",
    "geom_bar(stat=\"identity\") +\n",
    "labs(y=\"Time taken microseconds (μs)\",x=\"Module Name\",title = \"Average Time Taken For Dtw Module to Match \\n Amplicon Squiggle Against Reference Squiggle \\n Useing a Slideing Window Across Ref Squiggle\") \n",
    "\n",
    "Fig2\n",
    "\n"
   ]
  },
  {
   "cell_type": "code",
   "execution_count": 72,
   "metadata": {
    "collapsed": false
   },
   "outputs": [
    {
     "data": {
      "text/html": [
       "<table>\n",
       "<thead><tr><th></th><th scope=col>module</th><th scope=col>correct</th></tr></thead>\n",
       "<tbody>\n",
       "\t<tr><th scope=row>1</th><td>ucr</td><td>11 </td></tr>\n",
       "\t<tr><th scope=row>2</th><td>ftw</td><td>3  </td></tr>\n",
       "\t<tr><th scope=row>3</th><td>cdtw</td><td>2   </td></tr>\n",
       "\t<tr><th scope=row>4</th><td>mlpy</td><td>5   </td></tr>\n",
       "\t<tr><th scope=row>5</th><td>dtw</td><td>7  </td></tr>\n",
       "\t<tr><th scope=row>6</th><td>mlpy_sub</td><td>11      </td></tr>\n",
       "</tbody>\n",
       "</table>\n"
      ],
      "text/latex": [
       "\\begin{tabular}{r|ll}\n",
       "  & module & correct\\\\\n",
       "\\hline\n",
       "\t1 & ucr & 11 \\\\\n",
       "\t2 & ftw & 3  \\\\\n",
       "\t3 & cdtw & 2   \\\\\n",
       "\t4 & mlpy & 5   \\\\\n",
       "\t5 & dtw & 7  \\\\\n",
       "\t6 & mlpy\\_sub & 11        \\\\\n",
       "\\end{tabular}\n"
      ],
      "text/plain": [
       "    module correct\n",
       "1      ucr      11\n",
       "2      ftw       3\n",
       "3     cdtw       2\n",
       "4     mlpy       5\n",
       "5      dtw       7\n",
       "6 mlpy_sub      11"
      ]
     },
     "metadata": {},
     "output_type": "display_data"
    },
    {
     "data": {},
     "metadata": {},
     "output_type": "display_data"
    },
    {
     "data": {
      "image/png": "[encoded data removed]",
      "text/plain": [
       "plot without title"
      ]
     },
     "metadata": {},
     "output_type": "display_data"
    }
   ],
   "source": [
    "#count how many were correct and not correct for each\n",
    "\n",
    "accuracy = read.csv(\"./dtw_logs/Algorithm_Accuracy.txt\", header = TRUE, sep=\",\", stringsAsFactors=FALSE)\n",
    "\n",
    "module = c(\"ucr\", \"ftw\", \"cdtw\",\"mlpy\",\"dtw\",\"mlpy_sub\")\n",
    "correct = c(11,3,2,5,7,11)\n",
    "accuracy_manual = data.frame(module, correct,stringsAsFactors=FALSE)\n",
    "accuracy_manual\n",
    "\n",
    "Fig3<-ggplot(data=accuracy_manual,aes(x=module, y=correct)) + \n",
    "geom_bar(stat=\"identity\") +\n",
    "labs(y=\"Number Amplicon Locations Found Correct (max == 11)\",x=\"Module Name\",title = \"Number of Amplicons Locations Found Correct By A Sliding Window \\n DTW Search With Different Modules Between \\n A portion of Ref Squiggle Against Amplcion Squiggle \") \n",
    "\n",
    "Fig3"
   ]
  },
  {
   "cell_type": "code",
   "execution_count": 69,
   "metadata": {
    "collapsed": false
   },
   "outputs": [
    {
     "data": {
      "text/html": [
       "<table>\n",
       "<thead><tr><th></th><th scope=col>Module</th><th scope=col>AvgTime</th><th scope=col>Test</th></tr></thead>\n",
       "<tbody>\n",
       "\t<tr><th scope=row>1</th><td>cdtw            </td><td>28130.0909090909</td><td>window          </td></tr>\n",
       "\t<tr><th scope=row>2</th><td>dtw             </td><td>37272488.3636364</td><td>window          </td></tr>\n",
       "\t<tr><th scope=row>3</th><td>ftw             </td><td>6568354.45454545</td><td>window          </td></tr>\n",
       "\t<tr><th scope=row>4</th><td>mlpy            </td><td>50985.7272727273</td><td>window          </td></tr>\n",
       "\t<tr><th scope=row>5</th><td>mlpy_sub        </td><td>43912.2727272727</td><td>window          </td></tr>\n",
       "\t<tr><th scope=row>6</th><td>ucr             </td><td>1209088.90909091</td><td>window          </td></tr>\n",
       "\t<tr><th scope=row>7</th><td>cdtw            </td><td>13010.7272727273</td><td>Global          </td></tr>\n",
       "\t<tr><th scope=row>8</th><td>dtw             </td><td>607992.545454545</td><td>Global          </td></tr>\n",
       "\t<tr><th scope=row>9</th><td>ftw             </td><td>448633.818181818</td><td>Global          </td></tr>\n",
       "\t<tr><th scope=row>10</th><td>mlpy            </td><td>28241.4545454545</td><td>Global          </td></tr>\n",
       "\t<tr><th scope=row>11</th><td>mlpy_sub        </td><td>24620.0909090909</td><td>Global          </td></tr>\n",
       "\t<tr><th scope=row>12</th><td>pydtw           </td><td>34034.1818181818</td><td>Global          </td></tr>\n",
       "\t<tr><th scope=row>13</th><td>ucr             </td><td>500713.363636364</td><td>Global          </td></tr>\n",
       "</tbody>\n",
       "</table>\n"
      ],
      "text/latex": [
       "\\begin{tabular}{r|lll}\n",
       "  & Module & AvgTime & Test\\\\\n",
       "\\hline\n",
       "\t1 & cdtw             & 28130.0909090909 & window          \\\\\n",
       "\t2 & dtw              & 37272488.3636364 & window          \\\\\n",
       "\t3 & ftw              & 6568354.45454545 & window          \\\\\n",
       "\t4 & mlpy             & 50985.7272727273 & window          \\\\\n",
       "\t5 & mlpy\\_sub       & 43912.2727272727 & window          \\\\\n",
       "\t6 & ucr              & 1209088.90909091 & window          \\\\\n",
       "\t7 & cdtw             & 13010.7272727273 & Global          \\\\\n",
       "\t8 & dtw              & 607992.545454545 & Global          \\\\\n",
       "\t9 & ftw              & 448633.818181818 & Global          \\\\\n",
       "\t10 & mlpy             & 28241.4545454545 & Global          \\\\\n",
       "\t11 & mlpy\\_sub       & 24620.0909090909 & Global          \\\\\n",
       "\t12 & pydtw            & 34034.1818181818 & Global          \\\\\n",
       "\t13 & ucr              & 500713.363636364 & Global          \\\\\n",
       "\\end{tabular}\n"
      ],
      "text/plain": [
       "     Module     AvgTime   Test\n",
       "1      cdtw    28130.09 window\n",
       "2       dtw 37272488.36 window\n",
       "3       ftw  6568354.45 window\n",
       "4      mlpy    50985.73 window\n",
       "5  mlpy_sub    43912.27 window\n",
       "6       ucr  1209088.91 window\n",
       "7      cdtw    13010.73 Global\n",
       "8       dtw   607992.55 Global\n",
       "9       ftw   448633.82 Global\n",
       "10     mlpy    28241.45 Global\n",
       "11 mlpy_sub    24620.09 Global\n",
       "12    pydtw    34034.18 Global\n",
       "13      ucr   500713.36 Global"
      ]
     },
     "metadata": {},
     "output_type": "display_data"
    },
    {
     "data": {},
     "metadata": {},
     "output_type": "display_data"
    },
    {
     "data": {
      "image/png": "[encoded data removed]",
      "text/plain": [
       "plot without title"
      ]
     },
     "metadata": {},
     "output_type": "display_data"
    }
   ],
   "source": [
    "#overall grouped bare plots to compare the two tests\n",
    "#combind data frames\n",
    "newtime = rbind(avgtime_window,avgtime_all)\n",
    "newtime\n",
    "\n",
    "ggplot(newtime,aes(Test,AvgTime, fill=Module)) + \n",
    "geom_bar(stat= \"identity\", position= \"dodge\") +   \n",
    "theme(axis.text.x=element_text(angle=90))+\n",
    "ylab(\"Average Time Taken (μs)\") + xlab(\"Test Names\") + ggtitle(\"Average Time Taken For Dtw Module to Match \\n Amplicon Squiggle Against Reference Squiggle \\n Useing a Slideing Window Across Ref Squiggle or not\")\n",
    "\n"
   ]
  },
  {
   "cell_type": "code",
   "execution_count": null,
   "metadata": {
    "collapsed": true
   },
   "outputs": [],
   "source": []
  }
 ],
 "metadata": {
  "kernelspec": {
   "display_name": "R",
   "language": "R",
   "name": "ir"
  },
  "language_info": {
   "codemirror_mode": "r",
   "file_extension": ".r",
   "mimetype": "text/x-r-source",
   "name": "R",
   "pygments_lexer": "r",
   "version": "3.3.1"
  }
 },
 "nbformat": 4,
 "nbformat_minor": 0
}
